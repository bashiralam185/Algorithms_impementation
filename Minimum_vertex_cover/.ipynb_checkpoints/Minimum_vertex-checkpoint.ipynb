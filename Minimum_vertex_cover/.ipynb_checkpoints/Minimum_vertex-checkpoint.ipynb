{
 "cells": [
  {
   "cell_type": "code",
   "execution_count": 71,
   "id": "52f49027",
   "metadata": {},
   "outputs": [],
   "source": [
    "import pandas as pd\n",
    "import numpy as np"
   ]
  },
  {
   "cell_type": "code",
   "execution_count": 169,
   "id": "1ae26c64",
   "metadata": {},
   "outputs": [],
   "source": [
    "# Graph = [[1, 2], \n",
    "#         [1, 4], \n",
    "#         [2, 1],\n",
    "#         [2, 3], \n",
    "#         [3, 2],\n",
    "#         [4, 1], \n",
    "#         [4, 5],\n",
    "#         [5, 4]]\n",
    "\n",
    "\n",
    "# Graph = [[1, 2], \n",
    "#          [1, 3],\n",
    "#          [2, 1],\n",
    "#          [2, 3], \n",
    "#          [2, 5],\n",
    "#         [3, 1],\n",
    "#         [3, 2], \n",
    "#         [3, 4], \n",
    "#         [4, 3], \n",
    "#         [4, 5], \n",
    "#         [5, 2], \n",
    "#         [5, 4], \n",
    "#         [5, 6], \n",
    "#         [6, 5]]\n",
    "\n",
    "\n",
    "\n",
    "\n",
    "Graph =pd.DataFrame(Graph)\n",
    "\n",
    "selected_node =[]"
   ]
  },
  {
   "cell_type": "code",
   "execution_count": 170,
   "id": "a8f7e056",
   "metadata": {},
   "outputs": [],
   "source": [
    "dic = {}\n",
    "for i in Graph[0]:\n",
    "    if i in dic:\n",
    "        dic[i]+=1\n",
    "    else:\n",
    "        dic[i]=1\n",
    "        "
   ]
  },
  {
   "cell_type": "code",
   "execution_count": 171,
   "id": "5d3daa79",
   "metadata": {},
   "outputs": [],
   "source": [
    "while len(Graph!=0):\n",
    "    Input = list(Graph[0])\n",
    "    destination = list((Graph[1]))\n",
    "    mini = min(dic.values())\n",
    "    key_list = list (dic.keys())\n",
    "    val_list = list(dic.values()) \n",
    "    position =  val_list.index(mini)\n",
    "\n",
    "    minimum_node = key_list[position]\n",
    "    dic.pop(minimum_node)\n",
    "    current_node = Input[destination.index(minimum_node)]\n",
    "\n",
    "    selected_node.append(current_node)\n",
    "\n",
    "\n",
    "    Graph.drop(Graph[Graph[0]==current_node].index, inplace=True)\n",
    "    Graph.drop(Graph[Graph[1]==current_node].index, inplace=True)\n",
    "\n"
   ]
  },
  {
   "cell_type": "code",
   "execution_count": 172,
   "id": "726dc43f",
   "metadata": {},
   "outputs": [
    {
     "data": {
      "text/plain": [
       "[]"
      ]
     },
     "execution_count": 172,
     "metadata": {},
     "output_type": "execute_result"
    }
   ],
   "source": [
    "selected_node"
   ]
  },
  {
   "cell_type": "code",
   "execution_count": null,
   "id": "be3a8e20",
   "metadata": {},
   "outputs": [],
   "source": []
  }
 ],
 "metadata": {
  "kernelspec": {
   "display_name": "Python 3 (ipykernel)",
   "language": "python",
   "name": "python3"
  },
  "language_info": {
   "codemirror_mode": {
    "name": "ipython",
    "version": 3
   },
   "file_extension": ".py",
   "mimetype": "text/x-python",
   "name": "python",
   "nbconvert_exporter": "python",
   "pygments_lexer": "ipython3",
   "version": "3.9.12"
  }
 },
 "nbformat": 4,
 "nbformat_minor": 5
}
