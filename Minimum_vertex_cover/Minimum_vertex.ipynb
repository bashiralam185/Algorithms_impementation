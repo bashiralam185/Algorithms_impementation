{
 "cells": [
  {
   "cell_type": "code",
   "execution_count": 2,
   "id": "52f49027",
   "metadata": {},
   "outputs": [],
   "source": [
    "import pandas as pd\n",
    "import numpy as np"
   ]
  },
  {
   "cell_type": "code",
   "execution_count": 117,
   "id": "1ae26c64",
   "metadata": {},
   "outputs": [],
   "source": [
    "# Graph = [[1, 2], \n",
    "#         [1, 4], \n",
    "#         [2, 1],\n",
    "#         [2, 3], \n",
    "#         [3, 2],\n",
    "#         [4, 1], \n",
    "#         [4, 5],\n",
    "#         [5, 4]]\n",
    "\n",
    "\n",
    "# Graph = [[1, 2], \n",
    "#          [1, 3],\n",
    "#          [2, 1],\n",
    "#          [2, 3], \n",
    "#          [2, 5],\n",
    "#         [3, 1],\n",
    "#         [3, 2], \n",
    "#         [3, 4], \n",
    "#         [4, 3], \n",
    "#         [4, 5], \n",
    "#         [5, 2], \n",
    "#         [5, 4], \n",
    "#         [5, 6], \n",
    "#         [6, 5]]\n",
    "\n",
    "\n",
    "# Graph =[[1, 3], [1, 2], [1, 4], [1, 10], [2, 1], [2, 4], [2, 5], [3, 1], [3, 5], [3, 6], [4, 1], [4, 2], [4, 8], [4, 6], [4, 7],\n",
    "#        [5, 3], [5, 2], [6, 3], [6, 4], [6, 10], [6, 7], [6, 9], [7, 4], [7, 6], [7, 10], [7, 9], [8, 4], [8, 10], [8, 9], \n",
    "#        [9, 6], [9, 7], [9, 8], [9, 10], [10, 1], [10, 8], [10, 6], [10, 7], [10, 9]]\n",
    "# Graph =pd.DataFrame(Graph)\n",
    "\n",
    "\n",
    "\n",
    "# Graph = pd.read_excel('graph50-06.xlsx')\n",
    "# Graph = pd.read_excel('graph50-10.xlsx')\n",
    "# Graph = pd.read_excel('graph100-01.xlsx')\n",
    "# Graph = pd.read_excel('graph100-10.xlsx')\n",
    "# Graph = pd.read_excel('graph200-05.xlsx')\n",
    "# Graph = pd.read_excel('graph500-01.xlsx')\n",
    "# Graph = pd.read_excel('graph500-02.xlsx')\n",
    "Graph = pd.read_excel('graph500-05.xlsx')\n",
    "\n",
    "\n",
    "\n",
    "\n",
    "\n",
    "\n",
    "\n",
    "array = np.array(Graph)\n",
    "i=[1, 0]\n",
    "array2 = array[:, i]\n",
    "con = np.concatenate((array, array2))\n",
    "Graph = pd.DataFrame(con)\n",
    "\n",
    "selected_node =[]"
   ]
  },
  {
   "cell_type": "code",
   "execution_count": 118,
   "id": "a4d177fa",
   "metadata": {},
   "outputs": [],
   "source": [
    "while len(Graph!=0):\n",
    "    dic = {}\n",
    "    for i in Graph[0]:\n",
    "        if i in dic:\n",
    "            dic[i]+=1\n",
    "        else:\n",
    "            dic[i]=1\n",
    "    Input = list(Graph[0])\n",
    "    destination = list((Graph[1]))\n",
    "    mini = min(dic.values())\n",
    "    key_list = list (dic.keys())\n",
    "    val_list = list(dic.values()) \n",
    "    position =  val_list.index(mini)\n",
    "    \n",
    "    \n",
    "    \n",
    "    \n",
    "    minimum_node = key_list[position]\n",
    "    dic.pop(minimum_node)\n",
    "    \n",
    "    current_node = Input[destination.index(minimum_node)]\n",
    "    try:\n",
    "        dic.pop(current_node)\n",
    "    except:\n",
    "        pass\n",
    "\n",
    "    \n",
    "    selected_node.append(current_node)\n",
    "\n",
    "\n",
    "    Graph.drop(Graph[Graph[0]==current_node].index, inplace=True)\n",
    "    Graph.drop(Graph[Graph[1]==current_node].index, inplace=True)\n",
    "\n"
   ]
  },
  {
   "cell_type": "code",
   "execution_count": 119,
   "id": "5d3daa79",
   "metadata": {},
   "outputs": [
    {
     "data": {
      "text/plain": [
       "290"
      ]
     },
     "execution_count": 119,
     "metadata": {},
     "output_type": "execute_result"
    }
   ],
   "source": [
    "len(selected_node)"
   ]
  },
  {
   "cell_type": "code",
   "execution_count": null,
   "id": "28508736",
   "metadata": {},
   "outputs": [],
   "source": []
  }
 ],
 "metadata": {
  "kernelspec": {
   "display_name": "Python 3 (ipykernel)",
   "language": "python",
   "name": "python3"
  },
  "language_info": {
   "codemirror_mode": {
    "name": "ipython",
    "version": 3
   },
   "file_extension": ".py",
   "mimetype": "text/x-python",
   "name": "python",
   "nbconvert_exporter": "python",
   "pygments_lexer": "ipython3",
   "version": "3.9.12"
  }
 },
 "nbformat": 4,
 "nbformat_minor": 5
}
