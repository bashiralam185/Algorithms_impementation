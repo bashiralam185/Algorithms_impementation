{
  "nbformat": 4,
  "nbformat_minor": 0,
  "metadata": {
    "colab": {
      "name": "Untitled3.ipynb",
      "provenance": [],
      "collapsed_sections": []
    },
    "kernelspec": {
      "name": "python3",
      "display_name": "Python 3"
    },
    "language_info": {
      "name": "python"
    }
  },
  "cells": [
    {
      "cell_type": "code",
      "execution_count": null,
      "metadata": {
        "id": "c7MCFJyK3jqZ"
      },
      "outputs": [],
      "source": [
        "import numpy as np\n",
        "import pandas as pd\n",
        "\n",
        "#Graph =[[1, 2],       [1, 4], [1, 6], [2, 3],[2, 1],[4, 5],[4, 1], [6, 7],[6, 1],[3, 2],[5, 4],[7, 6]]\n",
        "\n",
        "\n",
        "#Graph = [[1,2], [1,3], [2, 1], [2, 6], [3, 1],[3, 4],[3,5], [4, 3],[4, 5],[5, 3],[5, 4], [5, 6], [6, 2], [6,5]]\n",
        "\n",
        "\n",
        "Graph = [[1, 2], [1, 4], [1, 6], [2, 1], [2, 5],[2, 3], [3, 2], [3, 7], [4, 1], [4, 5], [5, 2], [5, 4], [5, 6], [5, 7], [6, 1], [6, 5],[6,7], [7, 6], [7, 5], [7, 3]]\n",
        "\n",
        "\n",
        "#Graph = pd.read_excel('graph100-01.xlsx', header=None)\n",
        "\n",
        "\n",
        "#Graph = np.array(Graph)\n",
        "selected_nodes =[]\n",
        "Graph = np.array(Graph)\n",
        "\n",
        "#first = Graph[:, 0]\n",
        "#second = Graph[:, 1]\n",
        "\n",
        "#combined = np.vstack((second, first)).T\n",
        "\n",
        "#Graph = np.append(Graph, combined, axis=0)"
      ]
    },
    {
      "cell_type": "code",
      "source": [
        "def Minimum_Node(GRaph):\n",
        "  first_part = GRaph[:, 0]\n",
        "  second_part =GRaph[:, 1] \n",
        "  # returining a dictionay with the nodes \n",
        "  dic = {}\n",
        "  count = 0\n",
        "  for i in first_part:\n",
        "    if i in dic:\n",
        "      dic[i]=dic[i]+1\n",
        "    else:\n",
        "      dic[i]=1\n",
        "\n",
        "  for i in range(1, len(second_part)):\n",
        "\n",
        "    if len(dic)==0:\n",
        "      return selected_nodes\n",
        "      break\n",
        "   # finding the minimum node value from the dictionary\n",
        "    minimum_node = list(dic.keys())[list(dic.values()).index(min(dic.values()))]\n",
        "\n",
        "    #deleting the minimum node from the dic\n",
        "    del dic[minimum_node]\n",
        "\n",
        "    \n",
        "    #searching for the index value second node attached to the minimum node\n",
        "    Index_result =  np.random.choice(np.where(second_part == minimum_node)[0])\n",
        "\n",
        "    node = first_part[Index_result]\n",
        "    # appending the selected node to the list\n",
        "    selected_nodes.append(node)\n",
        "    # finding the indexes of the selected node\n",
        "   # indexArr = np.argwhere(first_part ==first_part[np.where(second_part == minimum_node)])\n",
        "   # print(indexArr)\n",
        "    # removing the selected nodes from the array\n",
        "    GRaph = np.delete(GRaph, np.where(GRaph == node), axis=0)\n",
        "    \n",
        "\n",
        "    if (len(GRaph))==0:\n",
        "      return selected_nodes\n",
        "      break\n"
      ],
      "metadata": {
        "id": "HNbrXBAX5wPr"
      },
      "execution_count": null,
      "outputs": []
    },
    {
      "cell_type": "code",
      "source": [
        "print((Minimum_Node(Graph)))\n"
      ],
      "metadata": {
        "colab": {
          "base_uri": "https://localhost:8080/"
        },
        "id": "fzy-CG9qPn_d",
        "outputId": "ad68abf4-2b62-4a0b-fa3a-21d2717bb223"
      },
      "execution_count": null,
      "outputs": [
        {
          "output_type": "stream",
          "name": "stdout",
          "text": [
            "[7, 1, 2, 3, 5]\n"
          ]
        }
      ]
    },
    {
      "cell_type": "code",
      "source": [
        ""
      ],
      "metadata": {
        "id": "yJMv47dtNxW-",
        "colab": {
          "base_uri": "https://localhost:8080/"
        },
        "outputId": "ce681f4d-d7bb-4c88-8f66-b16bf9bb1226"
      },
      "execution_count": null,
      "outputs": [
        {
          "output_type": "execute_result",
          "data": {
            "text/plain": [
              "4"
            ]
          },
          "metadata": {},
          "execution_count": 245
        }
      ]
    },
    {
      "cell_type": "code",
      "source": [
        ""
      ],
      "metadata": {
        "id": "LXlldzaMRQFG"
      },
      "execution_count": null,
      "outputs": []
    },
    {
      "cell_type": "code",
      "source": [
        ""
      ],
      "metadata": {
        "id": "CLYlZdkwJDrF"
      },
      "execution_count": null,
      "outputs": []
    },
    {
      "cell_type": "code",
      "source": [
        ""
      ],
      "metadata": {
        "id": "IrvWDfAN90XF"
      },
      "execution_count": null,
      "outputs": []
    },
    {
      "cell_type": "code",
      "source": [
        "\n",
        "\n",
        "\n",
        "\n"
      ],
      "metadata": {
        "id": "UyIMQr4YCS4W"
      },
      "execution_count": null,
      "outputs": []
    },
    {
      "cell_type": "code",
      "source": [
        ""
      ],
      "metadata": {
        "id": "ntOEg3cA-eir"
      },
      "execution_count": null,
      "outputs": []
    },
    {
      "cell_type": "code",
      "source": [
        ""
      ],
      "metadata": {
        "id": "HChsfBODBD9Z"
      },
      "execution_count": null,
      "outputs": []
    },
    {
      "cell_type": "code",
      "source": [
        "\n"
      ],
      "metadata": {
        "id": "8216QTk9CGom"
      },
      "execution_count": null,
      "outputs": []
    },
    {
      "cell_type": "code",
      "source": [
        ""
      ],
      "metadata": {
        "id": "KJBScg8OKztv"
      },
      "execution_count": null,
      "outputs": []
    },
    {
      "cell_type": "code",
      "source": [
        ""
      ],
      "metadata": {
        "id": "hzXPrjMzLT2Y"
      },
      "execution_count": null,
      "outputs": []
    }
  ]
}