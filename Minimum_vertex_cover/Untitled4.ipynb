{
  "nbformat": 4,
  "nbformat_minor": 0,
  "metadata": {
    "colab": {
      "name": "Untitled4.ipynb",
      "provenance": []
    },
    "kernelspec": {
      "name": "python3",
      "display_name": "Python 3"
    },
    "language_info": {
      "name": "python"
    }
  },
  "cells": [
    {
      "cell_type": "code",
      "execution_count": null,
      "metadata": {
        "id": "8_j-9-sXuW8m"
      },
      "outputs": [],
      "source": [
        "import numpy as np\n",
        "\n",
        "Graph = [[1, 2], [1, 4], [1, 6], [2, 1], [2, 5],[2, 3], [3, 2], [3, 7], [4, 1], [4, 5], [5, 2], [5, 4], [5, 6], [5, 7], [6, 1], [6, 5],[6,7], [7, 6], [7, 5], [7, 3]]\n",
        "\n",
        "\n",
        "#Graph = np.array(Graph)\n",
        "selected_nodes =[]\n",
        "Graph = np.array(Graph)\n",
        "\n",
        "import pandas as pd\n",
        "graph = pd.read_excel('graph50-06.xlsx')"
      ]
    },
    {
      "cell_type": "code",
      "source": [
        "graph = np.array(graph)\n",
        "\n",
        "first = graph[:, 0]\n",
        "second = graph[:, 1]\n",
        "\n",
        "combined = np.vstack((second, first)).T\n",
        "\n",
        "graph = np.append(graph, combined, axis=0)"
      ],
      "metadata": {
        "id": "vOXqo7phfIKx"
      },
      "execution_count": null,
      "outputs": []
    },
    {
      "cell_type": "code",
      "source": [
        "first_part = Graph[:, 0]\n",
        "second_part =Graph[:, 1] \n",
        "  # returining a dictionay with the nodes \n",
        "dic = {}\n",
        "count = 0\n",
        "for i in first_part:\n",
        "  if i in dic:\n",
        "    dic[i]=dic[i]+1\n",
        "  else:\n",
        "    dic[i]=1"
      ],
      "metadata": {
        "id": "o2o4lbdhbT3X"
      },
      "execution_count": null,
      "outputs": []
    },
    {
      "cell_type": "code",
      "source": [
        "dic"
      ],
      "metadata": {
        "colab": {
          "base_uri": "https://localhost:8080/"
        },
        "id": "rpt7uxGJbXiu",
        "outputId": "46f9154c-affa-486e-e972-037683e1d153"
      },
      "execution_count": null,
      "outputs": [
        {
          "output_type": "execute_result",
          "data": {
            "text/plain": [
              "{1: 3, 2: 3, 3: 2, 4: 2, 5: 4, 6: 3, 7: 3}"
            ]
          },
          "metadata": {},
          "execution_count": 27
        }
      ]
    },
    {
      "cell_type": "code",
      "source": [
        "# finding the minimum node value from the dictionary\n",
        "minimum_node = list(dic.keys())[list(dic.values()).index(min(dic.values()))]"
      ],
      "metadata": {
        "id": "4CIuzbVobi7-"
      },
      "execution_count": null,
      "outputs": []
    },
    {
      "cell_type": "code",
      "source": [
        "minimum_node"
      ],
      "metadata": {
        "colab": {
          "base_uri": "https://localhost:8080/"
        },
        "id": "RA4bSeiOcZe4",
        "outputId": "cac7ad96-b4f5-48b8-a6c9-a00b2babe1af"
      },
      "execution_count": null,
      "outputs": [
        {
          "output_type": "execute_result",
          "data": {
            "text/plain": [
              "2"
            ]
          },
          "metadata": {},
          "execution_count": 56
        }
      ]
    },
    {
      "cell_type": "code",
      "source": [
        "#searching for the index value second node attached to the minimum node\n",
        "Index_result =  np.random.choice(np.where(second_part == minimum_node)[0])"
      ],
      "metadata": {
        "id": "uM48OEB5ca_Q"
      },
      "execution_count": null,
      "outputs": []
    },
    {
      "cell_type": "code",
      "source": [
        "Index_result"
      ],
      "metadata": {
        "colab": {
          "base_uri": "https://localhost:8080/"
        },
        "id": "Eml__H7McpIB",
        "outputId": "e7c507b9-6685-4db0-d6da-1c1f8b76e035"
      },
      "execution_count": null,
      "outputs": [
        {
          "output_type": "execute_result",
          "data": {
            "text/plain": [
              "0"
            ]
          },
          "metadata": {},
          "execution_count": 58
        }
      ]
    },
    {
      "cell_type": "code",
      "source": [
        "del dic[minimum_node]\n"
      ],
      "metadata": {
        "id": "QDu_4x8IdZC8"
      },
      "execution_count": null,
      "outputs": []
    },
    {
      "cell_type": "code",
      "source": [
        "node = first_part[Index_result]\n",
        "\n",
        "node"
      ],
      "metadata": {
        "colab": {
          "base_uri": "https://localhost:8080/"
        },
        "id": "4YQbRDoecqwx",
        "outputId": "b3fc0bc6-c7db-44cf-db1f-30ad8929fb8a"
      },
      "execution_count": null,
      "outputs": [
        {
          "output_type": "execute_result",
          "data": {
            "text/plain": [
              "1"
            ]
          },
          "metadata": {},
          "execution_count": 60
        }
      ]
    },
    {
      "cell_type": "code",
      "source": [
        "selected_nodes.append(node)"
      ],
      "metadata": {
        "id": "fwHJsSzJc8Cg"
      },
      "execution_count": null,
      "outputs": []
    },
    {
      "cell_type": "code",
      "source": [
        "Graph = np.delete(Graph, np.where(Graph == node), axis=0)\n"
      ],
      "metadata": {
        "id": "YXtI7UsNc__A"
      },
      "execution_count": null,
      "outputs": []
    },
    {
      "cell_type": "code",
      "source": [
        "len(Graph)"
      ],
      "metadata": {
        "colab": {
          "base_uri": "https://localhost:8080/"
        },
        "id": "RfpEkoDFdPXR",
        "outputId": "e2f7cb0a-baf6-48dd-976c-7ed78173a864"
      },
      "execution_count": null,
      "outputs": [
        {
          "output_type": "execute_result",
          "data": {
            "text/plain": [
              "0"
            ]
          },
          "metadata": {},
          "execution_count": 64
        }
      ]
    },
    {
      "cell_type": "code",
      "source": [
        "def minimumNode(Graph):\n",
        "  first_part = Graph[:, 0]\n",
        "  second_part =Graph[:, 1] \n",
        "    # returining a dictionay with the nodes \n",
        "  dic = {}\n",
        "  count = 0\n",
        "  for i in first_part:\n",
        "    if i in dic:\n",
        "      dic[i]=dic[i]+1\n",
        "    else:\n",
        "      dic[i]=1\n",
        "\n",
        "  while len(Graph)!=0:\n",
        "    if len(dic)==0:\n",
        "      return selected_nodes\n",
        "      break\n",
        "    # finding the minimum node value from the dictionary\n",
        "    minimum_node = list(dic.keys())[list(dic.values()).index(min(dic.values()))]\n",
        "\n",
        "    #searching for the index value second node attached to the minimum node\n",
        "    Index_result =  np.random.choice(np.where(second_part == minimum_node)[0])\n",
        "\n",
        "    del dic[minimum_node]\n",
        "\n",
        "\n",
        "    node = first_part[Index_result]\n",
        "\n",
        "    selected_nodes.append(node)\n",
        "\n",
        "    Graph = np.delete(Graph, np.where(Graph == node), axis=0)\n",
        "    print(len(Graph))\n",
        "  return selected_nodes\n"
      ],
      "metadata": {
        "id": "zGoS268SdRWx"
      },
      "execution_count": null,
      "outputs": []
    },
    {
      "cell_type": "code",
      "source": [
        "print(len(minimumNode(graph)))"
      ],
      "metadata": {
        "colab": {
          "base_uri": "https://localhost:8080/"
        },
        "id": "XNy3xyhYepSq",
        "outputId": "3631eabd-4354-47aa-bf44-5078377030e4"
      },
      "execution_count": null,
      "outputs": [
        {
          "output_type": "stream",
          "name": "stdout",
          "text": [
            "1636\n",
            "1556\n",
            "1494\n",
            "1418\n",
            "1360\n",
            "1294\n",
            "1228\n",
            "1162\n",
            "1162\n",
            "1105\n",
            "1045\n",
            "983\n",
            "926\n",
            "926\n",
            "876\n",
            "819\n",
            "767\n",
            "767\n",
            "767\n",
            "767\n",
            "767\n",
            "719\n",
            "689\n",
            "638\n",
            "609\n",
            "564\n",
            "541\n",
            "495\n",
            "463\n",
            "463\n",
            "463\n",
            "463\n",
            "422\n",
            "380\n",
            "349\n",
            "317\n",
            "317\n",
            "317\n",
            "293\n",
            "293\n",
            "261\n",
            "261\n",
            "237\n",
            "212\n",
            "197\n",
            "197\n",
            "172\n",
            "172\n",
            "172\n",
            "172\n",
            "150\n"
          ]
        }
      ]
    },
    {
      "cell_type": "code",
      "source": [
        ""
      ],
      "metadata": {
        "id": "PwhyK5Uges4h"
      },
      "execution_count": null,
      "outputs": []
    },
    {
      "cell_type": "code",
      "source": [
        "\n"
      ],
      "metadata": {
        "id": "ESU6lk1ZJfkq"
      },
      "execution_count": null,
      "outputs": []
    },
    {
      "cell_type": "code",
      "source": [
        ""
      ],
      "metadata": {
        "id": "YIqhQj_OJjjb"
      },
      "execution_count": null,
      "outputs": []
    }
  ]
}